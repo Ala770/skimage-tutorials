{
 "metadata": {
  "kernelspec": {
   "codemirror_mode": {
    "name": "python",
    "version": 2
   },
   "display_name": "Python 2",
   "language": "python",
   "name": "python2"
  },
  "name": "",
  "signature": "sha256:64b534909c0d7aa3e0108a7c5c6cd436fc23d0be0e4b94327c4e976c18901e28"
 },
 "nbformat": 3,
 "nbformat_minor": 0,
 "worksheets": [
  {
   "cells": [
    {
     "cell_type": "markdown",
     "metadata": {},
     "source": [
      "# Lectures\n",
      "\n",
      "See the [full list of lectures](lectures/)."
     ]
    },
    {
     "cell_type": "markdown",
     "metadata": {},
     "source": [
      "# Conferences\n",
      "\n",
      "- [SciPy 2014](2014-scipy/000_index.ipynb)\n",
      "- [EuroSciPy 2014](2014-euroscipy/index.ipynb)\n",
      "- [SciPy 2015](2015-scipy/index.ipynb)"
     ]
    },
    {
     "cell_type": "markdown",
     "metadata": {},
     "source": [
      "# More demos and examples\n",
      "\n",
      "Refer to [the gallery](http://scikit-image.org/docs/dev/auto_examples/) as\n",
      "well as [scikit-image demos](https://github.com/scikit-image/skimage-demos)\n",
      "for more examples."
     ]
    }
   ],
   "metadata": {}
  }
 ]
}