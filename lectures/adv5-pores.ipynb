{
 "cells": [
  {
   "cell_type": "markdown",
   "metadata": {},
   "source": [
    "# Diatom analysis\n",
    "\n",
    "See https://www.nature.com/articles/s41524-019-0202-3:\n",
    "\n",
    "**Deep data analytics for genetic engineering of diatoms linking genotype to phenotype via machine learning**, Artem A. Trofimov, Alison A. Pawlicki, Nikolay Borodinov, Shovon Mandal, Teresa J. Mathews, Mark Hildebrand, Maxim A. Ziatdinov, Katherine A. Hausladen, Paulina K. Urbanowicz, Chad A. Steed, Anton V. Ievlev, Alex Belianinov, Joshua K. Michener, Rama Vasudevan, and Olga S. Ovchinnikova."
   ]
  },
  {
   "cell_type": "code",
   "execution_count": null,
   "metadata": {},
   "outputs": [],
   "source": [
    "%matplotlib inline\n",
    "import matplotlib.pyplot as plt\n",
    "import numpy as np"
   ]
  },
  {
   "cell_type": "code",
   "execution_count": null,
   "metadata": {},
   "outputs": [],
   "source": [
    "# Set up matplotlib defaults: larger images, gray color map\n",
    "import matplotlib\n",
    "matplotlib.rcParams.update({\n",
    "    'figure.figsize': (10, 10),\n",
    "    'image.cmap': 'gray'\n",
    "})"
   ]
  },
  {
   "cell_type": "code",
   "execution_count": null,
   "metadata": {},
   "outputs": [],
   "source": [
    "from skimage import io\n",
    "image = io.imread('../data/diatom-wild-032.jpg')\n",
    "\n",
    "plt.imshow(image);"
   ]
  },
  {
   "cell_type": "code",
   "execution_count": null,
   "metadata": {},
   "outputs": [],
   "source": [
    "pores = image[:690, :]\n",
    "\n",
    "plt.imshow(pores);"
   ]
  },
  {
   "cell_type": "code",
   "execution_count": null,
   "metadata": {},
   "outputs": [],
   "source": [
    "from skimage import filters\n",
    "from skimage import util\n",
    "\n",
    "denoised = filters.median(util.img_as_float(pores), behavior='ndimage')"
   ]
  },
  {
   "cell_type": "code",
   "execution_count": null,
   "metadata": {},
   "outputs": [],
   "source": [
    "pores_sqrt = np.sqrt(denoised)\n",
    "plt.imshow(pores_sqrt);"
   ]
  },
  {
   "cell_type": "code",
   "execution_count": null,
   "metadata": {},
   "outputs": [],
   "source": [
    "pores_inv = 1 - pores_sqrt\n",
    "plt.imshow(pores_inv);"
   ]
  },
  {
   "cell_type": "code",
   "execution_count": null,
   "metadata": {},
   "outputs": [],
   "source": [
    "from skimage import filters"
   ]
  },
  {
   "cell_type": "code",
   "execution_count": null,
   "metadata": {},
   "outputs": [],
   "source": [
    "T = filters.threshold_li(pores_sqrt)\n",
    "thresholded = (pores_sqrt <= T)\n",
    "\n",
    "plt.imshow(thresholded);"
   ]
  },
  {
   "cell_type": "code",
   "execution_count": null,
   "metadata": {},
   "outputs": [],
   "source": [
    "from scipy import ndimage as ndi\n",
    "from skimage import segmentation, morphology, color"
   ]
  },
  {
   "cell_type": "code",
   "execution_count": null,
   "metadata": {},
   "outputs": [],
   "source": [
    "distance = ndi.distance_transform_edt(thresholded)\n",
    "local_maxima = morphology.local_maxima(distance)"
   ]
  },
  {
   "cell_type": "code",
   "execution_count": null,
   "metadata": {},
   "outputs": [],
   "source": [
    "f, ax = plt.subplots(1, 1, figsize=(20, 20))\n",
    "\n",
    "maxi_coords = np.nonzero(local_maxima)\n",
    "\n",
    "ax.imshow(pores);\n",
    "plt.scatter(maxi_coords[1], maxi_coords[0]);"
   ]
  },
  {
   "cell_type": "code",
   "execution_count": null,
   "metadata": {},
   "outputs": [],
   "source": [
    "def shuffle_labels(labels):\n",
    "    \"\"\"Shuffle the labels so that they are no longer in order.\n",
    "    This helps with visualization.\n",
    "    \"\"\"\n",
    "    indices = np.unique(labels)\n",
    "    indices = np.append(\n",
    "        [0],\n",
    "        np.random.permutation(indices)\n",
    "    )\n",
    "    return indices[labels]"
   ]
  },
  {
   "cell_type": "code",
   "execution_count": null,
   "metadata": {},
   "outputs": [],
   "source": [
    "markers = ndi.label(local_maxima)[0]\n",
    "labels = segmentation.watershed(-distance, markers)"
   ]
  },
  {
   "cell_type": "code",
   "execution_count": null,
   "metadata": {},
   "outputs": [],
   "source": [
    "f, (ax0, ax1, ax2) = plt.subplots(1, 3, figsize=(20, 5))\n",
    "ax0.imshow(thresholded)\n",
    "ax1.imshow(np.log(1 + distance))\n",
    "ax2.imshow(shuffle_labels(labels), cmap='magma');"
   ]
  },
  {
   "cell_type": "code",
   "execution_count": null,
   "metadata": {},
   "outputs": [],
   "source": [
    "labels_masked = segmentation.watershed(-distance, markers, mask=thresholded, connectivity=2)"
   ]
  },
  {
   "cell_type": "code",
   "execution_count": null,
   "metadata": {},
   "outputs": [],
   "source": [
    "f, (ax0, ax1, ax2) = plt.subplots(1, 3, figsize=(20, 5))\n",
    "ax0.imshow(thresholded)\n",
    "ax1.imshow(np.log(1 + distance))\n",
    "ax2.imshow(shuffle_labels(labels_masked), cmap='magma');"
   ]
  },
  {
   "cell_type": "code",
   "execution_count": null,
   "metadata": {},
   "outputs": [],
   "source": [
    "from skimage import measure\n",
    "\n",
    "contours = measure.find_contours(labels_masked, level=0.5)\n",
    "plt.imshow(pores)\n",
    "for c in contours:\n",
    "    plt.plot(c[:, 1], c[:, 0])"
   ]
  },
  {
   "cell_type": "code",
   "execution_count": null,
   "metadata": {},
   "outputs": [],
   "source": [
    "regions = measure.regionprops(labels_masked)"
   ]
  },
  {
   "cell_type": "code",
   "execution_count": null,
   "metadata": {},
   "outputs": [],
   "source": [
    "f, ax = plt.subplots(figsize=(10, 3))\n",
    "ax.hist([r.area for r in regions], bins=100, range=(0, 200));"
   ]
  },
  {
   "cell_type": "code",
   "execution_count": null,
   "metadata": {},
   "outputs": [],
   "source": [
    "from keras import models, layers\n",
    "from keras.layers import Conv2D, MaxPooling2D, UpSampling2D\n",
    "\n",
    "M = 76\n",
    "N = int(23 / 76 * M) * 2\n",
    "\n",
    "model = models.Sequential()\n",
    "model.add(\n",
    "    Conv2D(\n",
    "        32,\n",
    "        kernel_size=(2, 2),\n",
    "        activation='relu',\n",
    "        input_shape=(N, N, 1),\n",
    "        padding='same'\n",
    "    )\n",
    ")\n",
    "model.add(MaxPooling2D(pool_size=(2, 2)))\n",
    "model.add(Conv2D(64, (3, 3), activation='relu', padding='same'))\n",
    "model.add(Conv2D(64, (3, 3), activation='relu', padding='same'))\n",
    "model.add(UpSampling2D(size=(2, 2)))\n",
    "model.add(\n",
    "    Conv2D(\n",
    "        1,\n",
    "        kernel_size=(2, 2),\n",
    "        activation='sigmoid',\n",
    "        padding='same'\n",
    "    )\n",
    ")\n",
    "model.compile(loss='mse', optimizer='Adam', metrics=['accuracy'])\n",
    "\n",
    "# Load pre-trained weights from disk\n",
    "model.load_weights('../data/keras_model-diatoms-pores.h5')"
   ]
  },
  {
   "cell_type": "code",
   "execution_count": null,
   "metadata": {},
   "outputs": [],
   "source": [
    "shape = np.array(pores.shape)\n",
    "padded_shape = (np.ceil(shape / 46) * 46).astype(int)\n",
    "delta_shape = padded_shape - shape\n",
    "\n",
    "padded_pores = np.pad(\n",
    "    pores,\n",
    "    pad_width=[(0, delta_shape[0]), (0, delta_shape[1])],\n",
    "    mode='symmetric'\n",
    ")\n",
    "\n",
    "blocks = util.view_as_blocks(padded_pores, (46, 46))"
   ]
  },
  {
   "cell_type": "code",
   "execution_count": null,
   "metadata": {},
   "outputs": [],
   "source": [
    "B_rows, B_cols, _, _ = blocks.shape"
   ]
  },
  {
   "cell_type": "code",
   "execution_count": null,
   "metadata": {},
   "outputs": [],
   "source": [
    "tile_masks = []\n",
    "\n",
    "for i in range(B_rows):\n",
    "    for j in range(B_cols):\n",
    "        tile = blocks[i, j]\n",
    "        \n",
    "        # nn wants (1, 46, 46, 1) tile shape\n",
    "        tile = tile[np.newaxis, :, :, np.newaxis]\n",
    "        predicted_mask = model.predict(tile)\n",
    "        \n",
    "        tile_masks.append(predicted_mask[0, :, :, 0])"
   ]
  },
  {
   "cell_type": "code",
   "execution_count": null,
   "metadata": {},
   "outputs": [],
   "source": [
    "nn_mask = util.montage(tile_masks, grid_shape=(B_rows, B_cols))\n",
    "nn_mask = nn_mask[:shape[0], :shape[1]]"
   ]
  },
  {
   "cell_type": "code",
   "execution_count": null,
   "metadata": {},
   "outputs": [],
   "source": [
    "plt.imshow(nn_mask);"
   ]
  },
  {
   "cell_type": "code",
   "execution_count": null,
   "metadata": {},
   "outputs": [],
   "source": [
    "contours = measure.find_contours(nn_mask, level=0.5)\n",
    "plt.imshow(pores)\n",
    "for c in contours:\n",
    "    plt.plot(c[:, 1], c[:, 0])"
   ]
  },
  {
   "cell_type": "code",
   "execution_count": null,
   "metadata": {},
   "outputs": [],
   "source": [
    "nn_regions = measure.regionprops(\n",
    "    measure.label(nn_mask)\n",
    ")"
   ]
  },
  {
   "cell_type": "code",
   "execution_count": null,
   "metadata": {},
   "outputs": [],
   "source": [
    "f, ax = plt.subplots(figsize=(10, 3))\n",
    "ax.hist([r.area for r in regions], bins=100, range=(0, 200), alpha=0.5, label='Classic')\n",
    "ax.hist([r.area for r in nn_regions], bins=100, range=(0, 200), alpha=0.5, label='NN')\n",
    "ax.legend();"
   ]
  }
 ],
 "metadata": {
  "kernelspec": {
   "display_name": "Python 3",
   "language": "python",
   "name": "python3"
  },
  "language_info": {
   "codemirror_mode": {
    "name": "ipython",
    "version": 3
   },
   "file_extension": ".py",
   "mimetype": "text/x-python",
   "name": "python",
   "nbconvert_exporter": "python",
   "pygments_lexer": "ipython3",
   "version": "3.7.3"
  }
 },
 "nbformat": 4,
 "nbformat_minor": 2
}
