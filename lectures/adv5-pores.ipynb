{
 "cells": [
  {
   "cell_type": "code",
   "execution_count": null,
   "metadata": {},
   "outputs": [],
   "source": [
    "%matplotlib inline\n",
    "import matplotlib.pyplot as plt\n",
    "import numpy as np\n",
    "\n",
    "# Set up matplotlib defaults: larger images, gray color map\n",
    "import matplotlib\n",
    "matplotlib.rcParams.update({\n",
    "    'figure.figsize': (10, 10),\n",
    "    'image.cmap': 'gray'\n",
    "})"
   ]
  },
  {
   "cell_type": "code",
   "execution_count": null,
   "metadata": {},
   "outputs": [],
   "source": [
    "from skimage import io\n",
    "image = io.imread('../data/diatom-wild-032.jpg')\n",
    "\n",
    "plt.imshow(image);"
   ]
  },
  {
   "cell_type": "code",
   "execution_count": null,
   "metadata": {},
   "outputs": [],
   "source": [
    "pores = image[:690, :]\n",
    "\n",
    "plt.imshow(pores);"
   ]
  },
  {
   "cell_type": "code",
   "execution_count": null,
   "metadata": {},
   "outputs": [],
   "source": [
    "from skimage import filters\n",
    "from skimage import util\n",
    "\n",
    "denoised = filters.median(util.img_as_float(pores), behavior='ndimage')"
   ]
  },
  {
   "cell_type": "code",
   "execution_count": null,
   "metadata": {},
   "outputs": [],
   "source": [
    "pores_sqrt = np.sqrt(denoised)\n",
    "plt.imshow(pores_sqrt);"
   ]
  },
  {
   "cell_type": "code",
   "execution_count": null,
   "metadata": {},
   "outputs": [],
   "source": [
    "pores_inv = 1 - pores_sqrt\n",
    "plt.imshow(pores_inv);"
   ]
  },
  {
   "cell_type": "code",
   "execution_count": null,
   "metadata": {},
   "outputs": [],
   "source": [
    "from skimage import filters"
   ]
  },
  {
   "cell_type": "code",
   "execution_count": null,
   "metadata": {},
   "outputs": [],
   "source": [
    "thresholded = (pores_sqrt < np.percentile(pores_sqrt, 15))\n",
    "plt.imshow(thresholded);"
   ]
  },
  {
   "cell_type": "code",
   "execution_count": null,
   "metadata": {},
   "outputs": [],
   "source": [
    "from scipy import ndimage as ndi\n",
    "from skimage import segmentation, morphology, color"
   ]
  },
  {
   "cell_type": "code",
   "execution_count": null,
   "metadata": {},
   "outputs": [],
   "source": [
    "distance = ndi.distance_transform_edt(thresholded)\n",
    "local_maxima = morphology.local_maxima(distance)"
   ]
  },
  {
   "cell_type": "code",
   "execution_count": null,
   "metadata": {},
   "outputs": [],
   "source": [
    "f, ax = plt.subplots(1, 1, figsize=(20, 20))\n",
    "\n",
    "maxi_coords = np.nonzero(local_maxima)\n",
    "\n",
    "ax.imshow(pores);\n",
    "plt.scatter(maxi_coords[1], maxi_coords[0]);"
   ]
  },
  {
   "cell_type": "code",
   "execution_count": null,
   "metadata": {},
   "outputs": [],
   "source": [
    "def shuffle_labels(labels):\n",
    "    \"\"\"Shuffle the labels so that they are no longer in order.\n",
    "    This helps with visualization.\n",
    "    \"\"\"\n",
    "    indices = np.unique(labels)\n",
    "    indices = np.append(\n",
    "        [0],\n",
    "        np.random.permutation(indices)\n",
    "    )\n",
    "    return indices[labels]"
   ]
  },
  {
   "cell_type": "code",
   "execution_count": null,
   "metadata": {},
   "outputs": [],
   "source": [
    "markers = ndi.label(local_maxima)[0]\n",
    "labels = segmentation.watershed(-distance, markers)"
   ]
  },
  {
   "cell_type": "code",
   "execution_count": null,
   "metadata": {},
   "outputs": [],
   "source": [
    "f, (ax0, ax1, ax2) = plt.subplots(1, 3, figsize=(20, 5))\n",
    "ax0.imshow(thresholded)\n",
    "ax1.imshow(np.log(1 + distance))\n",
    "ax2.imshow(shuffle_labels(labels), cmap='magma');"
   ]
  },
  {
   "cell_type": "code",
   "execution_count": null,
   "metadata": {},
   "outputs": [],
   "source": [
    "labels_masked = segmentation.watershed(-distance, markers, mask=thresholded, connectivity=2)"
   ]
  },
  {
   "cell_type": "code",
   "execution_count": null,
   "metadata": {},
   "outputs": [],
   "source": [
    "f, (ax0, ax1, ax2) = plt.subplots(1, 3, figsize=(20, 5))\n",
    "ax0.imshow(thresholded)\n",
    "ax1.imshow(np.log(1 + distance))\n",
    "ax2.imshow(shuffle_labels(labels_masked), cmap='magma');"
   ]
  },
  {
   "cell_type": "code",
   "execution_count": null,
   "metadata": {},
   "outputs": [],
   "source": [
    "from skimage import measure\n",
    "\n",
    "contours = measure.find_contours(shuffle_labels(labels_masked), level=0.5)\n",
    "plt.imshow(pores)\n",
    "for c in contours:\n",
    "    plt.plot(c[:, 1], c[:, 0])"
   ]
  }
 ],
 "metadata": {
  "kernelspec": {
   "display_name": "Python 3",
   "language": "python",
   "name": "python3"
  },
  "language_info": {
   "codemirror_mode": {
    "name": "ipython",
    "version": 3
   },
   "file_extension": ".py",
   "mimetype": "text/x-python",
   "name": "python",
   "nbconvert_exporter": "python",
   "pygments_lexer": "ipython3",
   "version": "3.7.3"
  }
 },
 "nbformat": 4,
 "nbformat_minor": 2
}
