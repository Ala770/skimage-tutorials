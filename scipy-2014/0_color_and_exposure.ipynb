{
 "metadata": {
  "celltoolbar": "Slideshow",
  "name": "",
  "signature": "sha256:79b046160505e1290e0c22370d73bbaa09d5bef9047210f52be21677764aff26"
 },
 "nbformat": 3,
 "nbformat_minor": 0,
 "worksheets": [
  {
   "cells": [
    {
     "cell_type": "heading",
     "level": 1,
     "metadata": {
      "slideshow": {
       "slide_type": "slide"
      }
     },
     "source": [
      "Color and exposure"
     ]
    },
    {
     "cell_type": "heading",
     "level": 2,
     "metadata": {
      "slideshow": {
       "slide_type": "slide"
      }
     },
     "source": [
      "Aside: Plotting images"
     ]
    },
    {
     "cell_type": "markdown",
     "metadata": {
      "slideshow": {
       "slide_type": "notes"
      }
     },
     "source": [
      "Before we get started, a quick note about plotting images---specifically, gray-scale images in Matplotlib. First, let's grab an example image from `scikit-image`."
     ]
    },
    {
     "cell_type": "code",
     "collapsed": false,
     "input": [
      "from skimage import data\n",
      "\n",
      "image = data.camera()"
     ],
     "language": "python",
     "metadata": {
      "slideshow": {
       "slide_type": "fragment"
      }
     },
     "outputs": []
    },
    {
     "cell_type": "markdown",
     "metadata": {
      "slideshow": {
       "slide_type": "notes"
      }
     },
     "source": [
      "If we plot a gray-scale image using the default colormap, \"jet\", and a gray-scale color\n",
      "map, 'gray', you can easily see the difference:"
     ]
    },
    {
     "cell_type": "code",
     "collapsed": false,
     "input": [
      "import matplotlib.pyplot as plt\n",
      "\n",
      "fig, (ax_jet, ax_gray) = plt.subplots(ncols=2)\n",
      "ax_jet.imshow(image, cmap='jet')\n",
      "ax_gray.imshow(image, cmap='gray');"
     ],
     "language": "python",
     "metadata": {
      "slideshow": {
       "slide_type": "fragment"
      }
     },
     "outputs": []
    },
    {
     "cell_type": "code",
     "collapsed": false,
     "input": [
      "face = image[80:160, 200:280]\n",
      "fig, (ax_jet, ax_gray) = plt.subplots(ncols=2)\n",
      "ax_jet.imshow(face, cmap='jet')\n",
      "ax_gray.imshow(face, cmap='gray');"
     ],
     "language": "python",
     "metadata": {
      "slideshow": {
       "slide_type": "fragment"
      }
     },
     "outputs": []
    },
    {
     "cell_type": "markdown",
     "metadata": {
      "slideshow": {
       "slide_type": "notes"
      }
     },
     "source": [
      "Setting the default colormap to 'gray' is *highly* recommended:"
     ]
    },
    {
     "cell_type": "code",
     "collapsed": true,
     "input": [
      "plt.rcParams['image.cmap'] = 'gray'"
     ],
     "language": "python",
     "metadata": {
      "slideshow": {
       "slide_type": "fragment"
      }
     },
     "outputs": []
    },
    {
     "cell_type": "markdown",
     "metadata": {
      "slideshow": {
       "slide_type": "notes"
      }
     },
     "source": [
      "Don't worry: Color images are unaffected by this change."
     ]
    },
    {
     "cell_type": "heading",
     "level": 3,
     "metadata": {
      "slideshow": {
       "slide_type": "slide"
      }
     },
     "source": [
      "Color images have a 3rd dimension"
     ]
    },
    {
     "cell_type": "markdown",
     "metadata": {
      "slideshow": {
       "slide_type": "notes"
      }
     },
     "source": [
      "Color images are arrays with pixel rows and columns as the first two dimensions (just like a gray-scale image), plus a 3rd dimension that describes the RGB color channels:"
     ]
    },
    {
     "cell_type": "code",
     "collapsed": false,
     "input": [
      "color_image = data.chelsea()\n",
      "plt.imshow(color_image);"
     ],
     "language": "python",
     "metadata": {
      "slideshow": {
       "slide_type": "fragment"
      }
     },
     "outputs": []
    },
    {
     "cell_type": "code",
     "collapsed": false,
     "input": [
      "color_image.shape"
     ],
     "language": "python",
     "metadata": {
      "slideshow": {
       "slide_type": "fragment"
      }
     },
     "outputs": []
    },
    {
     "cell_type": "markdown",
     "metadata": {
      "slideshow": {
       "slide_type": "notes"
      }
     },
     "source": [
      "Here we have an image with a height of 300 px, a width of 451 px, and 3 color channels, which are the red, green, and blue channels."
     ]
    },
    {
     "cell_type": "heading",
     "level": 2,
     "metadata": {
      "slideshow": {
       "slide_type": "slide"
      }
     },
     "source": [
      "Basic array manipulation"
     ]
    },
    {
     "cell_type": "markdown",
     "metadata": {
      "slideshow": {
       "slide_type": "notes"
      }
     },
     "source": [
      "Since images are just arrays, we can manipulate them as we would any other array."
     ]
    },
    {
     "cell_type": "heading",
     "level": 3,
     "metadata": {
      "slideshow": {
       "slide_type": "fragment"
      }
     },
     "source": [
      "Slicing and indexing"
     ]
    },
    {
     "cell_type": "markdown",
     "metadata": {
      "slideshow": {
       "slide_type": "notes"
      }
     },
     "source": [
      "Let's say we want to plot just the red channel of the color image above. We know that the red channel is the first channel of the 3rd image-dimension. Since Python is zero-indexed, we can write the following:"
     ]
    },
    {
     "cell_type": "code",
     "collapsed": false,
     "input": [
      "red_channel = color_image[:, :, 0]"
     ],
     "language": "python",
     "metadata": {
      "slideshow": {
       "slide_type": "fragment"
      }
     },
     "outputs": []
    },
    {
     "cell_type": "markdown",
     "metadata": {
      "slideshow": {
       "slide_type": "notes"
      }
     },
     "source": [
      "But if we plot this image..."
     ]
    },
    {
     "cell_type": "code",
     "collapsed": false,
     "input": [
      "plt.imshow(red_channel);"
     ],
     "language": "python",
     "metadata": {
      "slideshow": {
       "slide_type": "fragment"
      }
     },
     "outputs": []
    },
    {
     "cell_type": "markdown",
     "metadata": {
      "slideshow": {
       "slide_type": "notes"
      }
     },
     "source": [
      "Obviously that's not red at all. The reason is that there's nothing to tell us that this array is supposed to be red: It's just a 2D array with a height, width, and intensity value---and no color information.\n"
     ]
    },
    {
     "cell_type": "code",
     "collapsed": false,
     "input": [
      "red_channel.shape"
     ],
     "language": "python",
     "metadata": {
      "slideshow": {
       "slide_type": "fragment"
      }
     },
     "outputs": []
    },
    {
     "cell_type": "heading",
     "level": 2,
     "metadata": {
      "slideshow": {
       "slide_type": "fragment"
      }
     },
     "source": [
      "<span style=\"color:cornflowerblue\">Exercise:</span>"
     ]
    },
    {
     "cell_type": "markdown",
     "metadata": {
      "slideshow": {
       "slide_type": "fragment"
      }
     },
     "source": [
      "Create three images; each should display a red, green, or blue channel of the original image."
     ]
    },
    {
     "cell_type": "markdown",
     "metadata": {
      "slideshow": {
       "slide_type": "notes"
      }
     },
     "source": [
      "We'll be using a custom module with some helper functions for this tutorial. Make sure you have access to `skdemo.py`, which should have been included with these notebooks."
     ]
    },
    {
     "cell_type": "code",
     "collapsed": false,
     "input": [
      "import skdemo\n",
      "#skdemo.  # <TAB>"
     ],
     "language": "python",
     "metadata": {
      "slideshow": {
       "slide_type": "fragment"
      }
     },
     "outputs": []
    },
    {
     "cell_type": "code",
     "collapsed": false,
     "input": [
      "red_image = np.zeros_like(color_image)\n",
      "green_image = np.zeros_like(color_image)\n",
      "blue_image = np.zeros_like(color_image)\n",
      "\n",
      "skdemo.imshow_all(red_image, green_image, blue_image)"
     ],
     "language": "python",
     "metadata": {
      "slideshow": {
       "slide_type": "fragment"
      }
     },
     "outputs": []
    },
    {
     "cell_type": "heading",
     "level": 4,
     "metadata": {
      "slideshow": {
       "slide_type": "slide"
      }
     },
     "source": [
      "Combining color-slices with row/column-slices"
     ]
    },
    {
     "cell_type": "markdown",
     "metadata": {
      "slideshow": {
       "slide_type": "notes"
      }
     },
     "source": [
      "In the examples above, we just manipulate the last axis of the array (i.e. the color channel). As with any NumPy array, however, slicing can be applied to each axis:"
     ]
    },
    {
     "cell_type": "code",
     "collapsed": false,
     "input": [
      "color_patches = color_image.copy()\n",
      "# Remove green (1) & blue (2) from top-left corner.\n",
      "color_patches[:100, :100, 1:] = 0\n",
      "# Remove red (0) & blue (2) from bottom-right corner.\n",
      "color_patches[-100:, -100:, (0, 2)] = 0\n",
      "plt.imshow(color_patches);"
     ],
     "language": "python",
     "metadata": {
      "slideshow": {
       "slide_type": "fragment"
      }
     },
     "outputs": []
    },
    {
     "cell_type": "heading",
     "level": 2,
     "metadata": {
      "slideshow": {
       "slide_type": "slide"
      }
     },
     "source": [
      "Histograms"
     ]
    },
    {
     "cell_type": "markdown",
     "metadata": {
      "slideshow": {
       "slide_type": "notes"
      }
     },
     "source": [
      "Histograms are a quick way to get feel for the global statistics of the image intensity. They can tell you where to set a threshold and how to adjust the contrast, and they would have probably useful on the exercise you just completed ;)"
     ]
    },
    {
     "cell_type": "markdown",
     "metadata": {
      "slideshow": {
       "slide_type": "fragment"
      }
     },
     "source": [
      "You might be inclined to plot a histogram using matplotlib's `hist` function:"
     ]
    },
    {
     "cell_type": "code",
     "collapsed": false,
     "input": [
      "#plt.hist(color_image);"
     ],
     "language": "python",
     "metadata": {
      "slideshow": {
       "slide_type": "fragment"
      }
     },
     "outputs": []
    },
    {
     "cell_type": "markdown",
     "metadata": {
      "slideshow": {
       "slide_type": "notes"
      }
     },
     "source": [
      "That didn't work as expected. How would you fix the call above to make it work correctly?"
     ]
    },
    {
     "cell_type": "heading",
     "level": 2,
     "metadata": {
      "slideshow": {
       "slide_type": "fragment"
      }
     },
     "source": [
      "<span style=\"color:cornflowerblue\">Exercise:</span>"
     ]
    },
    {
     "cell_type": "markdown",
     "metadata": {
      "slideshow": {
       "slide_type": "fragment"
      }
     },
     "source": [
      "Create a function to **plot a histogram for each color channel** in a single plot."
     ]
    },
    {
     "cell_type": "markdown",
     "metadata": {
      "slideshow": {
       "slide_type": "fragment"
      }
     },
     "source": [
      "Bonus: Instead of using `plt.hist`, use `plt.plot` or `plt.fill_between` in combination with `histogram` from `skimage.exposure`."
     ]
    },
    {
     "cell_type": "heading",
     "level": 3,
     "metadata": {
      "slideshow": {
       "slide_type": "slide"
      }
     },
     "source": [
      "Histograms of images"
     ]
    },
    {
     "cell_type": "markdown",
     "metadata": {
      "slideshow": {
       "slide_type": "notes"
      }
     },
     "source": [
      "For this section, we're going to use a custom plotting function that does a few of the things described in the last exercise:\n",
      "* Plot the image next to the histogram\n",
      "* Plot each RGB channel separately\n",
      "* Automatically flatten channels\n",
      "* Select reasonable bins based on the image's `dtype`"
     ]
    },
    {
     "cell_type": "code",
     "collapsed": false,
     "input": [
      "skdemo.imshow_with_histogram?"
     ],
     "language": "python",
     "metadata": {
      "slideshow": {
       "slide_type": "fragment"
      }
     },
     "outputs": []
    },
    {
     "cell_type": "markdown",
     "metadata": {
      "slideshow": {
       "slide_type": "notes"
      }
     },
     "source": [
      "Using this function, let's look at the histogram of a grayscale image:"
     ]
    },
    {
     "cell_type": "code",
     "collapsed": false,
     "input": [
      "image = data.camera()\n",
      "skdemo.imshow_with_histogram(image);"
     ],
     "language": "python",
     "metadata": {
      "slideshow": {
       "slide_type": "fragment"
      }
     },
     "outputs": []
    },
    {
     "cell_type": "code",
     "collapsed": false,
     "input": [
      "image.dtype"
     ],
     "language": "python",
     "metadata": {},
     "outputs": []
    },
    {
     "cell_type": "markdown",
     "metadata": {
      "slideshow": {
       "slide_type": "notes"
      }
     },
     "source": [
      "Image intensity values are along the x-axis: Low-intensity values are closer to black, and high-intensity values are closer to white. The y-axis gives the number of pixels that are found at each intensity value.\n",
      "\n",
      "You can see the sharp peak in the low range because of the man's black jacket. And the rest of the image is fairly gray."
     ]
    },
    {
     "cell_type": "markdown",
     "metadata": {
      "slideshow": {
       "slide_type": "notes"
      }
     },
     "source": [
      "Now let's look at our color image:"
     ]
    },
    {
     "cell_type": "code",
     "collapsed": false,
     "input": [
      "skdemo.imshow_with_histogram(color_image);"
     ],
     "language": "python",
     "metadata": {
      "slideshow": {
       "slide_type": "fragment"
      }
     },
     "outputs": []
    },
    {
     "cell_type": "markdown",
     "metadata": {
      "slideshow": {
       "slide_type": "notes"
      }
     },
     "source": [
      "As you can see the intensity for each RGB channel is plotted separately. Unlike the previous histogram, these histograms almost look like Gaussian distributions that are shifted. This reflects the fact that color/intensity changes are relatively gradual in this picture.\n",
      "\n",
      "Let's take a look at one more picture:"
     ]
    },
    {
     "cell_type": "code",
     "collapsed": false,
     "input": [
      "skdemo.imshow_with_histogram(data.lena());"
     ],
     "language": "python",
     "metadata": {
      "slideshow": {
       "slide_type": "fragment"
      }
     },
     "outputs": []
    },
    {
     "cell_type": "markdown",
     "metadata": {
      "slideshow": {
       "slide_type": "notes"
      }
     },
     "source": [
      "In this image, there are large patches of relatively uniform color, and these patches are often separated by sharp transitions. This results in multi-modal distributions and sharp transition regions. \n",
      "\n",
      "Note: These RGB histograms are pretty, but not that useful, since a high red value is very different if combined with a low green and blue values (the result will tend toward red) vs high green and blue values (the result will tend toward white)."
     ]
    },
    {
     "cell_type": "heading",
     "level": 3,
     "metadata": {
      "slideshow": {
       "slide_type": "slide"
      }
     },
     "source": [
      "Histograms and contrast"
     ]
    },
    {
     "cell_type": "markdown",
     "metadata": {
      "slideshow": {
       "slide_type": "notes"
      }
     },
     "source": [
      "Let's take another look at the gray-scale image from earlier:"
     ]
    },
    {
     "cell_type": "code",
     "collapsed": false,
     "input": [
      "image = data.camera()\n",
      "skdemo.imshow_with_histogram(image);"
     ],
     "language": "python",
     "metadata": {
      "slideshow": {
       "slide_type": "fragment"
      }
     },
     "outputs": []
    },
    {
     "cell_type": "markdown",
     "metadata": {
      "slideshow": {
       "slide_type": "notes"
      }
     },
     "source": [
      "Notice intensity values at the bottom. Since image has a `dtype` of `uint8`, the values go from 0 to 255. Though you can see some pixels tail off toward 255, you can clearly see in the histogram, and in the image, that we're not using the high-intensity limits very well.\n",
      "\n",
      "Based on the histogram values, you might want to take all the pixels values that are more than about 180 in the image, and make them pure white (i.e. an intensity of 255). While we're at it, values less than about 10 can be set to pure black (i.e. 0). We can do this easily using `rescale_intensity`, from the `exposure` subpackage."
     ]
    },
    {
     "cell_type": "code",
     "collapsed": false,
     "input": [
      "from skimage import exposure\n",
      "high_contrast = exposure.rescale_intensity(image, in_range=(10, 180))\n",
      "skdemo.imshow_with_histogram(high_contrast);"
     ],
     "language": "python",
     "metadata": {
      "slideshow": {
       "slide_type": "fragment"
      }
     },
     "outputs": []
    },
    {
     "cell_type": "markdown",
     "metadata": {
      "slideshow": {
       "slide_type": "notes"
      }
     },
     "source": [
      "The contrast is visibly higher in the image, and the histogram is noticeably stretched. The sharp peak on the right is due the all the pixels greater 180 (in the original image) that were piled into a single bin (i.e. 255)."
     ]
    },
    {
     "cell_type": "heading",
     "level": 3,
     "metadata": {
      "slideshow": {
       "slide_type": "slide"
      }
     },
     "source": [
      "Histogram equalization"
     ]
    },
    {
     "cell_type": "markdown",
     "metadata": {
      "slideshow": {
       "slide_type": "notes"
      }
     },
     "source": [
      "In the previous example, grayscale values (10, 180) were set to (0, 255), and everything in between was linearly interpolated. There are other strategies for contrast enhancement---notably histogram equalization. Let's first look at the cumulative distribution function (CDF) of the image intensities."
     ]
    },
    {
     "cell_type": "code",
     "collapsed": false,
     "input": [
      "ax_image, ax_hist = skdemo.imshow_with_histogram(image)\n",
      "skdemo.plot_cdf(image, ax=ax_hist.twinx())"
     ],
     "language": "python",
     "metadata": {
      "slideshow": {
       "slide_type": "fragment"
      }
     },
     "outputs": []
    },
    {
     "cell_type": "markdown",
     "metadata": {
      "slideshow": {
       "slide_type": "notes"
      }
     },
     "source": [
      "For each intensity value, the CDF gives the fraction of pixels below that intensity value.\n",
      "\n",
      "One measure of contrast is how evenly distributed intensity values are: The dark coat might contrast sharply with the background, but the tight distribution of pixels in the dark coat mean that details in the coat are hidden. To enhance contrast, we could spread out intensities that are tightly distributed and allow intensities with only a few pixels to combine.\n",
      "\n",
      "This redistribution is exactly what histogram equalization does. And the CDF is important because a perfectly uniform distribution gives a CDF that's a straight line. We can use `equalize_hist` from the `exposure` package to demonstrate:"
     ]
    },
    {
     "cell_type": "code",
     "collapsed": false,
     "input": [
      "equalized = exposure.equalize_hist(image)"
     ],
     "language": "python",
     "metadata": {
      "slideshow": {
       "slide_type": "fragment"
      }
     },
     "outputs": []
    },
    {
     "cell_type": "code",
     "collapsed": false,
     "input": [
      "ax_image, ax_hist = skdemo.imshow_with_histogram(equalized)\n",
      "skdemo.plot_cdf(equalized, ax=ax_hist.twinx())"
     ],
     "language": "python",
     "metadata": {
      "slideshow": {
       "slide_type": "fragment"
      }
     },
     "outputs": []
    },
    {
     "cell_type": "markdown",
     "metadata": {
      "slideshow": {
       "slide_type": "notes"
      }
     },
     "source": [
      "The tightly distributed dark-pixels in the coat have been spread out, which reveals many details in the coat that were missed earlier. As promised, this more even distribution produces a CDF that approximates a straight line."
     ]
    },
    {
     "cell_type": "heading",
     "level": 3,
     "metadata": {
      "slideshow": {
       "slide_type": "slide"
      }
     },
     "source": [
      "Contrasted-limited, adaptive histogram equalization"
     ]
    },
    {
     "cell_type": "markdown",
     "metadata": {
      "slideshow": {
       "slide_type": "notes"
      }
     },
     "source": [
      "Unfortunately, histogram equalization tends to produce images whose contrast is artificially high. In addition, better enhancement can be achieved locally by looking at smaller patches of an image, rather than the whole image. In the image above, the contrast in the coat is much improved, but the contrast in the grass is somewhat reduced.\n",
      "\n",
      "Contrast-limited adaptive histogram equalization (CLAHE) addresses these issues. The implementation details aren't too important, but seeing the result is:"
     ]
    },
    {
     "cell_type": "code",
     "collapsed": false,
     "input": [
      "equalized = exposure.equalize_adapthist(image)"
     ],
     "language": "python",
     "metadata": {
      "slideshow": {
       "slide_type": "fragment"
      }
     },
     "outputs": []
    },
    {
     "cell_type": "code",
     "collapsed": false,
     "input": [
      "ax_image, ax_hist = skdemo.imshow_with_histogram(equalized)\n",
      "skdemo.plot_cdf(equalized, ax=ax_hist.twinx())"
     ],
     "language": "python",
     "metadata": {
      "slideshow": {
       "slide_type": "fragment"
      }
     },
     "outputs": []
    },
    {
     "cell_type": "markdown",
     "metadata": {
      "slideshow": {
       "slide_type": "notes"
      }
     },
     "source": [
      "Compared to plain-old histogram equalization, the high contrast in the coat is maintained, but the contrast in the grass is also improved. \n",
      "Finally, the contrast doesn't look overly-enhanced, as it did with normal histogram equalization.\n",
      "\n",
      "Note that `equalize_adapthist` is more user guided than `equalize_hist`: There are input parameters that control the patch-size and contrast enhancement."
     ]
    },
    {
     "cell_type": "heading",
     "level": 3,
     "metadata": {
      "slideshow": {
       "slide_type": "slide"
      }
     },
     "source": [
      "Histograms and thresholding"
     ]
    },
    {
     "cell_type": "markdown",
     "metadata": {
      "slideshow": {
       "slide_type": "notes"
      }
     },
     "source": [
      "One of the most common uses for image histograms is thresholding. Let's return to the original image and its histogram"
     ]
    },
    {
     "cell_type": "code",
     "collapsed": false,
     "input": [
      "skdemo.imshow_with_histogram(image);"
     ],
     "language": "python",
     "metadata": {
      "slideshow": {
       "slide_type": "fragment"
      }
     },
     "outputs": []
    },
    {
     "cell_type": "markdown",
     "metadata": {
      "slideshow": {
       "slide_type": "notes"
      }
     },
     "source": [
      "Here the man and the tripod are fairly close to black, and the rest of the scene is mostly gray. But if you wanted to separate the two, how do you decide on a threshold value just based on the image. Looking at histogram though, it's pretty clear that a value of about 50 will separate the two large portions of this image."
     ]
    },
    {
     "cell_type": "code",
     "collapsed": false,
     "input": [
      "ax_image, ax_hist = skdemo.imshow_with_histogram(image)\n",
      "threshold = 50\n",
      "# This is a bit of a hack that plots the thresholded image over the original.\n",
      "# This just allows us to reuse the layout defined in `plot_image_with_histogram`.\n",
      "ax_image.imshow(image > threshold)\n",
      "ax_hist.axvline(threshold, color='red');"
     ],
     "language": "python",
     "metadata": {
      "slideshow": {
       "slide_type": "fragment"
      }
     },
     "outputs": []
    },
    {
     "cell_type": "markdown",
     "metadata": {
      "slideshow": {
       "slide_type": "notes"
      }
     },
     "source": [
      "Note that the histogram plotted here is for the image *before* thresholding.\n",
      "\n",
      "This does a pretty good job of separating the man (and tripod) from most of the background. Thresholding is the simplest method of image segmentation; i.e. dividing an image into \"meaningful\" regions. More on that later.\n",
      "\n",
      "As you might expect, you don't have to look at a histogram to decide what a good threshold value is: There are (many) algorithms that can do it for you. One of the most popular is Otsu's method, which gives a slightly different threshold:"
     ]
    },
    {
     "cell_type": "code",
     "collapsed": false,
     "input": [
      "from skimage import filter\n",
      "threshold = filter.threshold_otsu(image)\n",
      "print threshold"
     ],
     "language": "python",
     "metadata": {
      "slideshow": {
       "slide_type": "fragment"
      }
     },
     "outputs": []
    },
    {
     "cell_type": "code",
     "collapsed": false,
     "input": [
      "plt.imshow(image > threshold);"
     ],
     "language": "python",
     "metadata": {
      "slideshow": {
       "slide_type": "fragment"
      }
     },
     "outputs": []
    },
    {
     "cell_type": "markdown",
     "metadata": {
      "slideshow": {
       "slide_type": "notes"
      }
     },
     "source": [
      "Note the features of the man's face are slightly better resolved in this case."
     ]
    },
    {
     "cell_type": "markdown",
     "metadata": {
      "slideshow": {
       "slide_type": "notes"
      }
     },
     "source": [
      "RGB is one way to represent color images, but there are many different ways to do so. You can easily convert to a different color representation, or \"color space\", using functions in the `color` module:"
     ]
    },
    {
     "cell_type": "heading",
     "level": 2,
     "metadata": {
      "slideshow": {
       "slide_type": "slide"
      }
     },
     "source": [
      "Color spaces"
     ]
    },
    {
     "cell_type": "markdown",
     "metadata": {
      "slideshow": {
       "slide_type": "notes"
      }
     },
     "source": [
      "While RGB is fairly easy to understand, using it to detect a specific color (other than red, green, or blue) can be a pain. Many of the other color spaces devote a single component to the image intensity (a.k.a. luminance or lightness) and often have two more components to represent the color.\n",
      "\n",
      "Here, we'll look at the Lab (or CIELAB) color space:"
     ]
    },
    {
     "cell_type": "code",
     "collapsed": false,
     "input": [
      "from skimage import color\n",
      "#color.rgb2  # <TAB>"
     ],
     "language": "python",
     "metadata": {
      "slideshow": {
       "slide_type": "fragment"
      }
     },
     "outputs": []
    },
    {
     "cell_type": "code",
     "collapsed": true,
     "input": [
      "from skimage import color\n",
      "\n",
      "lab_image = color.rgb2lab(color_image)\n",
      "lab_image.shape"
     ],
     "language": "python",
     "metadata": {
      "slideshow": {
       "slide_type": "fragment"
      }
     },
     "outputs": []
    },
    {
     "cell_type": "markdown",
     "metadata": {
      "slideshow": {
       "slide_type": "notes"
      }
     },
     "source": [
      "Converting to Lab didn't change the shape of the image at all. Let's try to plot it:"
     ]
    },
    {
     "cell_type": "code",
     "collapsed": false,
     "input": [
      "plt.imshow(lab_image);"
     ],
     "language": "python",
     "metadata": {
      "slideshow": {
       "slide_type": "fragment"
      }
     },
     "outputs": []
    },
    {
     "cell_type": "markdown",
     "metadata": {
      "slideshow": {
       "slide_type": "notes"
      }
     },
     "source": [
      "Matplotlib expected an RGB array, and apparently, Lab arrays don't look anything like RGB arrays."
     ]
    },
    {
     "cell_type": "heading",
     "level": 2,
     "metadata": {
      "slideshow": {
       "slide_type": "fragment"
      }
     },
     "source": [
      "<span style=\"color:cornflowerblue\">Exercise:</span>"
     ]
    },
    {
     "cell_type": "markdown",
     "metadata": {
      "slideshow": {
       "slide_type": "fragment"
      }
     },
     "source": [
      "Use the CIELAB color space to **isolate the eyes** in the `chelsea` image. Plot the L, a, b components to get a feel for what they do, and see the [wikipedia page](http://en.wikipedia.org/wiki/Lab_colorspace) for more info. Bonus: **Isolate the nose** too."
     ]
    },
    {
     "cell_type": "heading",
     "level": 2,
     "metadata": {
      "slideshow": {
       "slide_type": "slide"
      }
     },
     "source": [
      "Further reading"
     ]
    },
    {
     "cell_type": "markdown",
     "metadata": {
      "slideshow": {
       "slide_type": "-"
      }
     },
     "source": [
      "* [Example of tinting gray-scale images](<http://scikit-image.org/docs/dev/auto_examples/plot_tinting_grayscale_images.html>)\n",
      "* Color spaces (see [`skimage.color`](http://scikit-image.org/docs/dev/api/skimage.color.html) package)\n",
      "  - `rgb2hsv`\n",
      "  - `rgb2luv`\n",
      "  - `rgb2xyz`\n",
      "  - `rgb2lab`\n",
      "* [Histogram equalization](http://scikit-image.org/docs/dev/auto_examples/plot_equalize.html) and [local histogram equalization](http://scikit-image.org/docs/dev/auto_examples/plot_local_equalize.html)"
     ]
    }
   ],
   "metadata": {}
  }
 ]
}