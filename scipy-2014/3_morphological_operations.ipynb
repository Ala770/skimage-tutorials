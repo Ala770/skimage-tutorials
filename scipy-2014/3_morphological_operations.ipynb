{
 "metadata": {
  "name": "",
  "signature": "sha256:ee979d8cdf96b4bd884174480c7f0a734602fe88649a3c35eeedb9d9d7daf696"
 },
 "nbformat": 3,
 "nbformat_minor": 0,
 "worksheets": [
  {
   "cells": [
    {
     "cell_type": "markdown",
     "metadata": {},
     "source": [
      "# Morphological operations\n",
      "\n",
      "Morphology is the study of shapes. In image processing, some simple operations can get you a long way. The first things to learn are *erosion* and *dilation*. In erosion, we look at a pixel\u2019s local neighborhood and replace the value of that pixel with the minimum value of that neighborhood. In dilation, we instead choose the maximum."
     ]
    },
    {
     "cell_type": "code",
     "collapsed": false,
     "input": [
      "import numpy as np\n",
      "from matplotlib import pyplot as plt, cm\n",
      "%matplotlib inline"
     ],
     "language": "python",
     "metadata": {},
     "outputs": []
    },
    {
     "cell_type": "code",
     "collapsed": false,
     "input": [
      "image = np.array([[0, 0, 0, 0, 0],\n",
      "                  [0, 1, 1, 1, 0],\n",
      "                  [0, 1, 1, 1, 0],\n",
      "                  [0, 1, 1, 1, 0],\n",
      "                  [0, 0, 0, 0, 0]], dtype=np.uint8)\n",
      "from skimage import morphology"
     ],
     "language": "python",
     "metadata": {},
     "outputs": []
    },
    {
     "cell_type": "markdown",
     "metadata": {},
     "source": [
      "The documentation for scikit-image's morphology module is\n",
      "[here](http://scikit-image.org/docs/0.10.x/api/skimage.morphology.html).\n",
      "\n",
      "Importantly, we must use a *structuring element*, which defines the local\n",
      "neighborhood of each pixel. To get every neighbor (up, down, left, right, and\n",
      "diagonals), use `morphology.square`; to avoid diagonals, use\n",
      "`morphology.diamond`:"
     ]
    },
    {
     "cell_type": "code",
     "collapsed": false,
     "input": [
      "sq = morphology.square(width=3)\n",
      "dia = morphology.diamond(radius=1)\n",
      "print(sq)\n",
      "print(dia)"
     ],
     "language": "python",
     "metadata": {},
     "outputs": []
    },
    {
     "cell_type": "markdown",
     "metadata": {},
     "source": [
      "The central value of the structuring element represents the pixel being considered, and the surrounding values are the neighbors: a 1 value means that pixel counts as a neighbor, while a 0 value does not. So:"
     ]
    },
    {
     "cell_type": "code",
     "collapsed": false,
     "input": [
      "print(morphology.erosion(image, sq))"
     ],
     "language": "python",
     "metadata": {},
     "outputs": []
    },
    {
     "cell_type": "markdown",
     "metadata": {},
     "source": [
      "and"
     ]
    },
    {
     "cell_type": "code",
     "collapsed": false,
     "input": [
      "print(morphology.dilation(image, sq))"
     ],
     "language": "python",
     "metadata": {},
     "outputs": []
    },
    {
     "cell_type": "markdown",
     "metadata": {},
     "source": [
      "and"
     ]
    },
    {
     "cell_type": "code",
     "collapsed": false,
     "input": [
      "print(morphology.dilation(image, dia))"
     ],
     "language": "python",
     "metadata": {},
     "outputs": []
    },
    {
     "cell_type": "markdown",
     "metadata": {},
     "source": [
      "Erosion and dilation can be combined into two slightly more sophisticated operations, *opening* and *closing*. Here's an example:"
     ]
    },
    {
     "cell_type": "code",
     "collapsed": false,
     "input": [
      "image = np.array([[0, 0, 0, 0, 0, 0, 0, 0],\n",
      "                  [0, 1, 1, 1, 1, 1, 1, 0],\n",
      "                  [0, 1, 1, 1, 1, 1, 1, 0],\n",
      "                  [0, 1, 1, 1, 1, 1, 1, 0],\n",
      "                  [0, 1, 1, 1, 0, 0, 1, 0],\n",
      "                  [0, 1, 1, 1, 0, 0, 1, 0],\n",
      "                  [0, 1, 1, 1, 0, 0, 1, 0],\n",
      "                  [0, 1, 1, 1, 1, 1, 1, 0],\n",
      "                  [0, 1, 1, 1, 1, 1, 1, 0],\n",
      "                  [0, 1, 1, 1, 1, 1, 1, 0],\n",
      "                  [0, 0, 0, 0, 0, 0, 0, 0]], np.uint8)"
     ],
     "language": "python",
     "metadata": {},
     "outputs": []
    },
    {
     "cell_type": "markdown",
     "metadata": {},
     "source": [
      "What happens when run an erosion followed by a dilation of this image?\n",
      "\n",
      "What about the reverse?\n",
      "\n",
      "Try to imagine the operations in your head before trying them out below."
     ]
    },
    {
     "cell_type": "code",
     "collapsed": false,
     "input": [
      "plt.imshow(morphology.opening(image, sq),\n",
      "           interpolation='nearest',\n",
      "           cmap=cm.gray) # erosion, dilation"
     ],
     "language": "python",
     "metadata": {},
     "outputs": []
    },
    {
     "cell_type": "code",
     "collapsed": false,
     "input": [
      "plt.imshow(morphology.closing(image, sq),\n",
      "           interpolation='nearest',\n",
      "           cmap=cm.gray) # dilation, erosion"
     ],
     "language": "python",
     "metadata": {},
     "outputs": []
    },
    {
     "cell_type": "markdown",
     "metadata": {},
     "source": [
      "**Exercise**: use morphological operations to remove noise from a binary image."
     ]
    },
    {
     "cell_type": "code",
     "collapsed": false,
     "input": [
      "from skimage import data, color\n",
      "hub = color.rgb2gray(data.hubble()[350:450, 90:190])\n",
      "plt.imshow(hub, interpolation='nearest', cmap=cm.cubehelix)"
     ],
     "language": "python",
     "metadata": {},
     "outputs": []
    },
    {
     "cell_type": "markdown",
     "metadata": {},
     "source": [
      "Remove the smaller objects to retrieve the large galaxy."
     ]
    },
    {
     "cell_type": "code",
     "collapsed": false,
     "input": [],
     "language": "python",
     "metadata": {},
     "outputs": []
    }
   ],
   "metadata": {}
  }
 ]
}